{
 "cells": [
  {
   "cell_type": "markdown",
   "metadata": {},
   "source": [
    "# Budget Analysis using Python and Google Spreadsheets"
   ]
  },
  {
   "cell_type": "markdown",
   "metadata": {},
   "source": [
    "## Settings / configuration"
   ]
  },
  {
   "cell_type": "code",
   "execution_count": 1,
   "metadata": {
    "inputHidden": false,
    "outputHidden": false
   },
   "outputs": [],
   "source": [
    "# the folder in which we put our exported bank transaction files\n",
    "clerkai_folder = \"~/Documents/Clerk.ai\"\n",
    "\n",
    "# the name of the google spreadsheet we use to annotate transactions\n",
    "transactions_gsheet_export_title = \"Clerk.ai - Transactions\"\n",
    "\n",
    "# custom columns that you want to annotate your transactions with (optional: can be left empty)\n",
    "additional_transactions_editable_columns = []"
   ]
  },
  {
   "cell_type": "markdown",
   "metadata": {},
   "source": [
    "## Import libraries and set up some global helpers\n",
    "\n",
    "Note that you need to [set up a Google OAuth project or service account for yourself](https://gspread.readthedocs.io/en/latest/oauth2.html) to be able to import/export from/to Google Spreadsheets"
   ]
  },
  {
   "cell_type": "code",
   "execution_count": 2,
   "metadata": {},
   "outputs": [],
   "source": [
    "# an authorized gspread client is required for gsheets import/export\n",
    "import gspread\n",
    "gsheets_client = gspread.oauth()"
   ]
  },
  {
   "cell_type": "code",
   "execution_count": 3,
   "metadata": {},
   "outputs": [],
   "source": [
    "# import and init clerk.ai notebook helpers / functions\n",
    "from clerkai.nb_helpers import init_notebook_and_return_helpers\n",
    "helpers = init_notebook_and_return_helpers(clerkai_folder)\n",
    "transactions = helpers[\"transactions\"]\n",
    "download_and_store_gsheets_edits = helpers[\"download_and_store_gsheets_edits\"]\n",
    "from clerkai.utils import export_to_gsheets\n",
    "import pandas as pd\n",
    "import numpy as np"
   ]
  },
  {
   "cell_type": "code",
   "execution_count": 4,
   "metadata": {},
   "outputs": [],
   "source": [
    "# a general notebook helper function\n",
    "from IPython.display import display\n",
    "def display_full_df(df):\n",
    "    with pd.option_context('display.max_rows', None, 'display.max_columns', None, 'display.max_colwidth', -1):  # more options can be specified also\n",
    "        display(df)"
   ]
  },
  {
   "cell_type": "markdown",
   "metadata": {},
   "source": [
    "## Import annotations and edits that we have done in Google Spreadsheets (if any)"
   ]
  },
  {
   "cell_type": "code",
   "execution_count": 5,
   "metadata": {},
   "outputs": [
    {
     "name": "stdout",
     "output_type": "stream",
     "text": [
      "Creating '2020-05-30 1211 (d08b)/Transaction files.gsheets.Clerk.ai - Transactions.Transaction files.2020-05-30 163706897.xlsx'\n"
     ]
    }
   ],
   "source": [
    "from gspread import SpreadsheetNotFound, WorksheetNotFound\n",
    "try:\n",
    "    download_and_store_gsheets_edits(gsheets_client, transactions_gsheet_export_title, \"Transaction files\", \"transaction_files\")\n",
    "except SpreadsheetNotFound:\n",
    "    print(\"Spreadsheet not found (it will be created later)\")\n",
    "except WorksheetNotFound:\n",
    "    print(\"WorksheetNotFound not found (it will be created later)\")"
   ]
  },
  {
   "cell_type": "code",
   "execution_count": 6,
   "metadata": {},
   "outputs": [
    {
     "name": "stdout",
     "output_type": "stream",
     "text": [
      "Creating '2020-05-30 1211 (d08b)/Transactions.gsheets.Clerk.ai - Transactions.Transactions.2020-05-30 163710279.xlsx'\n"
     ]
    }
   ],
   "source": [
    "from gspread import SpreadsheetNotFound, WorksheetNotFound\n",
    "try:\n",
    "    download_and_store_gsheets_edits(gsheets_client, transactions_gsheet_export_title, \"Transactions\", \"transactions\")\n",
    "except SpreadsheetNotFound:\n",
    "    print(\"Spreadsheet not found (it will be created later)\")\n",
    "except WorksheetNotFound:\n",
    "    print(\"WorksheetNotFound not found (it will be created later)\")"
   ]
  },
  {
   "cell_type": "markdown",
   "metadata": {},
   "source": [
    "## Scan transactions files\n",
    "\n",
    "On the first run of the cell below, no transactions will be parsed, since necessary information about the files will be missing. Go to the exported Google Spreadsheet, select the sheet \"Transaction Files\" and fill the following columns:\n",
    "\n",
    "* `Account provider` - what you call the bank or service that exported the file (eg \"Bank of America\")\n",
    "* `Account`- what you call the account\n",
    "* `Content type` - one of the content types listed [here](https://github.com/clerklabs/python-clerkai/blob/master/clerkai/transactions/parse.py). If none match, please submit an issue at https://github.com/clerklabs/python-clerkai/issues and request it (or create it and then submit a PR).\n",
    "\n",
    "Then re-run all cells in this notebook again."
   ]
  },
  {
   "cell_type": "code",
   "execution_count": 7,
   "metadata": {},
   "outputs": [
    {
     "name": "stdout",
     "output_type": "stream",
     "text": [
      "Merging edits from 1 edit file(s) and Transaction files.xlsx into a new Transaction files.xlsx (ignoring currently parsed data)\n",
      "Creating '2020-05-30 1211 (d08b)/Transaction files.xlsx'\n",
      "Merging edits from 2 edit file(s) and the currently parsed data into Transactions.xlsx\n",
      "Creating '2020-05-30 1637 (e16a)/Transactions.xlsx'\n",
      "\n",
      ".:: Parsing done\n",
      "Amount of non-ignored transaction files: 3\n",
      "Unsuccessfully parsed files: 0\n",
      "Successfully parsed files: 3\n",
      "Transactions including duplicates: 92\n",
      "Transactions: 92\n",
      "\n",
      "All transaction files parsed successfully\n"
     ]
    }
   ],
   "source": [
    "(parsed_transaction_files_df, transaction_files_df, unsuccessfully_parsed_transaction_files, successfully_parsed_transaction_files, all_transactions_df, parsed_transactions_df, transactions_df, transaction_files_editable_columns, transactions_editable_columns) = transactions(failfast=False,keep_unmerged_previous_edits=False,additional_transactions_editable_columns=additional_transactions_editable_columns)\n",
    "\n",
    "print(\"\")\n",
    "print(\".:: Parsing done\")\n",
    "print(\"Amount of non-ignored transaction files:\", len(unsuccessfully_parsed_transaction_files)+len(successfully_parsed_transaction_files))\n",
    "print(\"Unsuccessfully parsed files:\", len(unsuccessfully_parsed_transaction_files))\n",
    "print(\"Successfully parsed files:\", len(successfully_parsed_transaction_files))\n",
    "print(\"Transactions including duplicates:\", len(all_transactions_df))\n",
    "print(\"Transactions:\", len(transactions_df))\n",
    "print(\"\")\n",
    "\n",
    "# to see which files are not parsed - due to errors\n",
    "if len(unsuccessfully_parsed_transaction_files) > 0:\n",
    "    print(\"Some transaction files were not parsed:\")\n",
    "    display_full_df(unsuccessfully_parsed_transaction_files)\n",
    "else:\n",
    "    print(\"All transaction files parsed successfully\")"
   ]
  },
  {
   "cell_type": "markdown",
   "metadata": {},
   "source": [
    "## (Optional) Run classifiers for automatic annotation of transactions"
   ]
  },
  {
   "cell_type": "code",
   "execution_count": 8,
   "metadata": {},
   "outputs": [],
   "source": [
    "# run classifiers here"
   ]
  },
  {
   "cell_type": "markdown",
   "metadata": {},
   "source": [
    "## Export results to Google Spreadsheets for manual annotations"
   ]
  },
  {
   "cell_type": "code",
   "execution_count": 9,
   "metadata": {},
   "outputs": [
    {
     "data": {
      "text/plain": [
       "'https://docs.google.com/spreadsheets/d/1r8iqQWH0VyAOzs7wVprgijw6WQlNQkxk8FM_XVq6IDs'"
      ]
     },
     "execution_count": 9,
     "metadata": {},
     "output_type": "execute_result"
    }
   ],
   "source": [
    "export_to_gsheets(gsheets_client, transaction_files_df, transactions_gsheet_export_title, \"Transaction files\", \"transaction_files\", create_if_not_exists=True, editable_columns=transactions_editable_columns)"
   ]
  },
  {
   "cell_type": "code",
   "execution_count": 10,
   "metadata": {},
   "outputs": [
    {
     "data": {
      "text/plain": [
       "'https://docs.google.com/spreadsheets/d/1r8iqQWH0VyAOzs7wVprgijw6WQlNQkxk8FM_XVq6IDs'"
      ]
     },
     "execution_count": 10,
     "metadata": {},
     "output_type": "execute_result"
    }
   ],
   "source": [
    "export_to_gsheets(gsheets_client, transactions_df, transactions_gsheet_export_title, \"Transactions\", \"transactions\", create_if_not_exists=True, editable_columns=transactions_editable_columns)"
   ]
  },
  {
   "cell_type": "markdown",
   "metadata": {},
   "source": [
    "## How to manually annotate, re-import and re-run classifiers\n",
    "\n",
    "Go to the Google Spreadsheet and annotate all editable columns (marked with a white background instead of grey), then re-run all cells in this notebook to import those changes back and re-run automatic classifiers.\n",
    "\n",
    "You can also run this notebook via the command line (launching the notebook only if errors occurred):\n",
    "\n",
    "```\n",
    "./run.sh\n",
    "```"
   ]
  },
  {
   "cell_type": "markdown",
   "metadata": {},
   "source": [
    "# Visualizations and reports"
   ]
  },
  {
   "cell_type": "code",
   "execution_count": 11,
   "metadata": {},
   "outputs": [],
   "source": [
   ]
  },
  {
   "cell_type": "code",
   "execution_count": null,
   "metadata": {},
   "outputs": [],
   "source": [
    "# Amounts by month and \"Income/Expense Category\"\n",
    "pivot_table = pd.pivot_table(\n",
    "    transactions_df,\n",
    "    values='Amount',\n",
    "    index=[\"Month\", \"Income/Expense Category\"],\n",
    "    fill_value=0,\n",
    "    columns=[],\n",
    "    aggfunc=np.sum,\n",
    "    margins=True\n",
    ").round({'Amount': 0})\n",
    "display_full_df(pivot_table)"
   ]
  },
  {
   "cell_type": "code",
   "execution_count": null,
   "metadata": {},
   "outputs": [],
   "source": []
  }
 ],
 "metadata": {
  "kernel_info": {
   "name": "clerk.ai"
  },
  "kernelspec": {
   "display_name": "budget-analysis",
   "language": "python",
   "name": "budget-analysis"
  },
  "language_info": {
   "codemirror_mode": {
    "name": "ipython",
    "version": 3
   },
   "file_extension": ".py",
   "mimetype": "text/x-python",
   "name": "python",
   "nbconvert_exporter": "python",
   "pygments_lexer": "ipython3",
   "version": "3.7.6"
  },
  "nteract": {
   "version": "0.1.0"
  }
 },
 "nbformat": 4,
 "nbformat_minor": 1
}
