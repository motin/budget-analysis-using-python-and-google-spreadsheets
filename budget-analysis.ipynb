{
 "cells": [
  {
   "cell_type": "markdown",
   "metadata": {},
   "source": [
    "# Budget Analysis using Python and Google Spreadsheets"
   ]
  },
  {
   "cell_type": "markdown",
   "metadata": {},
   "source": [
    "## Settings / configuration"
   ]
  },
  {
   "cell_type": "code",
   "execution_count": 1,
   "metadata": {
    "inputHidden": false,
    "outputHidden": false
   },
   "outputs": [],
   "source": [
    "# the folder in which we put our exported bank transaction files\n",
    "clerkai_folder = \"~/Documents/Clerk.ai\"\n",
    "\n",
    "# the name of the google spreadsheet we use to annotate transactions\n",
    "transactions_gsheet_export_title = \"Clerk.ai - Transactions\"\n",
    "\n",
    "# custom columns that you want to annotate your transactions with (optional: can be left empty)\n",
    "additional_transactions_editable_columns = []"
   ]
  },
  {
   "cell_type": "markdown",
   "metadata": {},
   "source": [
    "## Import libraries and set up some global helpers\n",
    "\n",
    "Note that you need to [set up a Google OAuth project or service account for yourself](https://gspread.readthedocs.io/en/latest/oauth2.html) to be able to import/export from/to Google Spreadsheets"
   ]
  },
  {
   "cell_type": "code",
   "execution_count": 2,
   "metadata": {},
   "outputs": [],
   "source": [
    "# an authorized gspread client is required for gsheets import/export\n",
    "import gspread\n",
    "gsheets_client = gspread.oauth()"
   ]
  },
  {
   "cell_type": "code",
   "execution_count": 3,
   "metadata": {},
   "outputs": [],
   "source": [
    "# import and init clerk.ai notebook helpers / functions\n",
    "from clerkai.nb_helpers import init_notebook_and_return_helpers\n",
    "helpers = init_notebook_and_return_helpers(clerkai_folder)\n",
    "transactions = helpers[\"transactions\"]\n",
    "download_and_store_gsheets_edits = helpers[\"download_and_store_gsheets_edits\"]\n",
    "from clerkai.utils import export_to_gsheets\n",
    "import pandas as pd\n",
    "import numpy as np"
   ]
  },
  {
   "cell_type": "code",
   "execution_count": 4,
   "metadata": {},
   "outputs": [],
   "source": [
    "# a general notebook helper function\n",
    "from IPython.display import display\n",
    "def display_full_df(df):\n",
    "    with pd.option_context('display.max_rows', None, 'display.max_columns', None, 'display.max_colwidth', -1):  # more options can be specified also\n",
    "        display(df)"
   ]
  },
  {
   "cell_type": "markdown",
   "metadata": {},
   "source": [
    "## Import annotations and edits that we have done in Google Spreadsheets (if any)"
   ]
  },
  {
   "cell_type": "code",
   "execution_count": 5,
   "metadata": {},
   "outputs": [
    {
     "name": "stdout",
     "output_type": "stream",
     "text": [
      "Creating '2020-05-31 1249 (54b3)/Transaction files.gsheets.Clerk.ai - Transactions.Transaction files.2020-05-31 125143281.xlsx'\n"
     ]
    }
   ],
   "source": [
    "from gspread import SpreadsheetNotFound, WorksheetNotFound\n",
    "from pandas.errors import EmptyDataError\n",
    "try:\n",
    "    download_and_store_gsheets_edits(gsheets_client, transactions_gsheet_export_title, \"Transaction files\", \"transaction_files\")\n",
    "except SpreadsheetNotFound:\n",
    "    print(\"Spreadsheet not found (it will be created later)\")\n",
    "except WorksheetNotFound:\n",
    "    print(\"Worksheet not found (it will be created later)\")\n",
    "except EmptyDataError:\n",
    "    print(\"Worksheet empty (it will be populated later)\")"
   ]
  },
  {
   "cell_type": "code",
   "execution_count": 6,
   "metadata": {},
   "outputs": [
    {
     "name": "stdout",
     "output_type": "stream",
     "text": [
      "Creating '2020-05-31 1249 (54b3)/Transactions.gsheets.Clerk.ai - Transactions.Transactions.2020-05-31 125144412.xlsx'\n"
     ]
    }
   ],
   "source": [
    "from gspread import SpreadsheetNotFound, WorksheetNotFound\n",
    "from pandas.errors import EmptyDataError\n",
    "try:\n",
    "    download_and_store_gsheets_edits(gsheets_client, transactions_gsheet_export_title, \"Transactions\", \"transactions\")\n",
    "except SpreadsheetNotFound:\n",
    "    print(\"Spreadsheet not found (it will be created later)\")\n",
    "except WorksheetNotFound:\n",
    "    print(\"Worksheet not found (it will be created later)\")\n",
    "except EmptyDataError:\n",
    "    print(\"Worksheet empty (it will be populated later)\")"
   ]
  },
  {
   "cell_type": "markdown",
   "metadata": {},
   "source": [
    "## Scan transactions files\n",
    "\n",
    "On the first run of the cell below, no transactions will be parsed, since necessary information about the files will be missing. Go to the exported Google Spreadsheet, select the sheet \"Transaction Files\" and fill the following columns:\n",
    "\n",
    "* `Account provider` - what you call the bank or service that exported the file (eg \"Bank of America\")\n",
    "* `Account`- what you call the account\n",
    "* `Content type` - one of the content types listed [here](https://github.com/clerklabs/python-clerkai/blob/master/clerkai/transactions/parse.py). If none match, please submit an issue at https://github.com/clerklabs/python-clerkai/issues and request it (or create it and then submit a PR).\n",
    "\n",
    "Then re-run all cells in this notebook again."
   ]
  },
  {
   "cell_type": "code",
   "execution_count": 7,
   "metadata": {},
   "outputs": [
    {
     "name": "stdout",
     "output_type": "stream",
     "text": [
      "Merging edits from 1 edit file(s) and Transaction files.xlsx into a new Transaction files.xlsx (ignoring currently parsed data)\n",
      "Creating '2020-05-31 1249 (54b3)/Transaction files.xlsx'\n",
      "Merging edits from 1 edit file(s) and Transactions.xlsx into a new Transactions.xlsx (ignoring currently parsed data)\n",
      "Warning: Ignoring invalid previous_possibly_edited_df    Account      Date  Year  Month  Clarification  Type  \\\n",
      "0        0  00:00:00     0      0            NaN   NaN   \n",
      "1        0  00:00:00     0      0            NaN   NaN   \n",
      "\n",
      "   Income/Expense Category Currency  Real Date           Bank Date  ...  \\\n",
      "0                      NaN      EUR        NaN  2020-05-07 0:00:00  ...   \n",
      "1                      NaN      EUR        NaN  2019-12-30 0:00:00  ...   \n",
      "\n",
      "  History reference                 Source transaction file: File name  \\\n",
      "0              54b3  Personkonto FI12 3456 7890 1234 56 - 2020.05.3...   \n",
      "1              54b3  Personkonto FI12 3456 7890 1234 56 - 2020.05.3...   \n",
      "\n",
      "  Source transaction file: File path  \\\n",
      "0                     @/Transactions   \n",
      "1                     @/Transactions   \n",
      "\n",
      "   Source transaction file: Account provider  \\\n",
      "0                                        bar   \n",
      "1                                        bar   \n",
      "\n",
      "   Source transaction file: Account  \\\n",
      "0                               foo   \n",
      "1                               foo   \n",
      "\n",
      "          Source transaction file: Content type  \\\n",
      "0  exported-transaction-file/nordea.netbank.csv   \n",
      "1  exported-transaction-file/nordea.netbank.csv   \n",
      "\n",
      "  Source transaction file: Account currency  \\\n",
      "0                                       NaN   \n",
      "1                                       NaN   \n",
      "\n",
      "              Source transaction file: File metadata  \\\n",
      "0  {'size': 210, 'sha1sum': '9b598061b15a2deae31f...   \n",
      "1  {'size': 210, 'sha1sum': '9b598061b15a2deae31f...   \n",
      "\n",
      "  Source transaction file: History reference Row number at export  \n",
      "0                                       54b3                    2  \n",
      "1                                       54b3                    3  \n",
      "\n",
      "[2 rows x 29 columns]\n",
      "Creating '2020-05-31 1249 (54b3)/Transactions.xlsx'\n",
      "\n",
      ".:: Parsing done\n",
      "Amount of non-ignored transaction files: 1\n",
      "Unsuccessfully parsed files: 0\n",
      "Successfully parsed files: 1\n",
      "Transactions including duplicates: 2\n",
      "Transactions: 2\n",
      "\n",
      "All transaction files parsed successfully\n"
     ]
    }
   ],
   "source": [
    "(parsed_transaction_files_df, transaction_files_df, unsuccessfully_parsed_transaction_files, successfully_parsed_transaction_files, all_transactions_df, parsed_transactions_df, transactions_df, transaction_files_editable_columns, transactions_editable_columns) = transactions(failfast=False,keep_unmerged_previous_edits=False,additional_transactions_editable_columns=additional_transactions_editable_columns)\n",
    "\n",
    "print(\"\")\n",
    "print(\".:: Parsing done\")\n",
    "print(\"Amount of non-ignored transaction files:\", len(unsuccessfully_parsed_transaction_files)+len(successfully_parsed_transaction_files))\n",
    "print(\"Unsuccessfully parsed files:\", len(unsuccessfully_parsed_transaction_files))\n",
    "print(\"Successfully parsed files:\", len(successfully_parsed_transaction_files))\n",
    "print(\"Transactions including duplicates:\", len(all_transactions_df))\n",
    "print(\"Transactions:\", len(transactions_df))\n",
    "print(\"\")\n",
    "\n",
    "# to see which files are not parsed - due to errors\n",
    "if len(unsuccessfully_parsed_transaction_files) > 0:\n",
    "    print(\"Some transaction files were not parsed:\")\n",
    "    display_full_df(unsuccessfully_parsed_transaction_files)\n",
    "else:\n",
    "    print(\"All transaction files parsed successfully\")"
   ]
  },
  {
   "cell_type": "markdown",
   "metadata": {},
   "source": [
    "## (Optional) Run classifiers for automatic annotation of transactions"
   ]
  },
  {
   "cell_type": "code",
   "execution_count": 8,
   "metadata": {},
   "outputs": [],
   "source": [
    "# run classifiers here"
   ]
  },
  {
   "cell_type": "markdown",
   "metadata": {},
   "source": [
    "## Export results to Google Spreadsheets for manual annotations"
   ]
  },
  {
   "cell_type": "code",
   "execution_count": 9,
   "metadata": {},
   "outputs": [
    {
     "name": "stdout",
     "output_type": "stream",
     "text": [
      "List of transactions files exported to https://docs.google.com/spreadsheets/d/1fMmCimo8g0BigpnNHU2Wq_z57lEDX-X5zcSjjX5m-p4\n"
     ]
    }
   ],
   "source": [
    "gsheet_url = export_to_gsheets(gsheets_client, transaction_files_df, transactions_gsheet_export_title, \"Transaction files\", \"transaction_files\", create_if_not_exists=True, editable_columns=transaction_files_editable_columns)\n",
    "print(\"List of transactions files exported to %s\" % gsheet_url)"
   ]
  },
  {
   "cell_type": "code",
   "execution_count": 10,
   "metadata": {},
   "outputs": [
    {
     "name": "stdout",
     "output_type": "stream",
     "text": [
      "Transactions exported to https://docs.google.com/spreadsheets/d/1fMmCimo8g0BigpnNHU2Wq_z57lEDX-X5zcSjjX5m-p4\n"
     ]
    }
   ],
   "source": [
    "if len(transactions_df) > 0:\n",
    "    gsheet_url = export_to_gsheets(gsheets_client, transactions_df, transactions_gsheet_export_title, \"Transactions\", \"transactions\", create_if_not_exists=True, editable_columns=transactions_editable_columns)\n",
    "    print(\"Transactions exported to %s\" % gsheet_url)"
   ]
  },
  {
   "cell_type": "markdown",
   "metadata": {},
   "source": [
    "## How to manually annotate, re-import and re-run classifiers\n",
    "\n",
    "Go to the Google Spreadsheet and annotate all editable columns (marked with a white background instead of grey), then re-run all cells in this notebook to import those changes back and re-run automatic classifiers.\n",
    "\n",
    "You can also run this notebook via the command line (launching the notebook only if errors occurred):\n",
    "\n",
    "```\n",
    "./run.sh\n",
    "```"
   ]
  },
  {
   "cell_type": "markdown",
   "metadata": {},
   "source": [
    "# Visualizations and reports"
   ]
  },
  {
   "cell_type": "code",
   "execution_count": 11,
   "metadata": {},
   "outputs": [],
   "source": [
    "# TODO: clerkai 0.3.0+ will populate the proper columns for pivot tables to make sense"
   ]
  },
  {
   "cell_type": "code",
   "execution_count": 12,
   "metadata": {},
   "outputs": [
    {
     "data": {
      "text/html": [
       "<div>\n",
       "<style scoped>\n",
       "    .dataframe tbody tr th:only-of-type {\n",
       "        vertical-align: middle;\n",
       "    }\n",
       "\n",
       "    .dataframe tbody tr th {\n",
       "        vertical-align: top;\n",
       "    }\n",
       "\n",
       "    .dataframe thead th {\n",
       "        text-align: right;\n",
       "    }\n",
       "</style>\n",
       "<table border=\"1\" class=\"dataframe\">\n",
       "  <thead>\n",
       "    <tr style=\"text-align: right;\">\n",
       "      <th></th>\n",
       "      <th></th>\n",
       "      <th>Amount</th>\n",
       "    </tr>\n",
       "    <tr>\n",
       "      <th>Month</th>\n",
       "      <th>Income/Expense Category</th>\n",
       "      <th></th>\n",
       "    </tr>\n",
       "  </thead>\n",
       "  <tbody>\n",
       "    <tr>\n",
       "      <th>All</th>\n",
       "      <th></th>\n",
       "      <td>0.0</td>\n",
       "    </tr>\n",
       "  </tbody>\n",
       "</table>\n",
       "</div>"
      ],
      "text/plain": [
       "                               Amount\n",
       "Month Income/Expense Category        \n",
       "All                            0.0   "
      ]
     },
     "metadata": {},
     "output_type": "display_data"
    }
   ],
   "source": [
    "if len(transactions_df) > 0:\n",
    "    # Amounts by month and \"Income/Expense Category\"\n",
    "    pivot_table = pd.pivot_table(\n",
    "        transactions_df,\n",
    "        values='Amount',\n",
    "        index=[\"Month\", \"Income/Expense Category\"],\n",
    "        fill_value=0,\n",
    "        columns=[],\n",
    "        aggfunc=np.sum,\n",
    "        margins=True\n",
    "    ).round({'Amount': 0})\n",
    "    display_full_df(pivot_table)"
   ]
  }
 ],
 "metadata": {
  "kernel_info": {
   "name": "clerk.ai"
  },
  "kernelspec": {
   "display_name": "Clerk.ai",
   "language": "python",
   "name": "clerk.ai"
  },
  "language_info": {
   "codemirror_mode": {
    "name": "ipython",
    "version": 3
   },
   "file_extension": ".py",
   "mimetype": "text/x-python",
   "name": "python",
   "nbconvert_exporter": "python",
   "pygments_lexer": "ipython3",
   "version": "3.8.2"
  },
  "nteract": {
   "version": "0.1.0"
  }
 },
 "nbformat": 4,
 "nbformat_minor": 1
}
