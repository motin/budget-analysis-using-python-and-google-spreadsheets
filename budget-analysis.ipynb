{
 "cells": [
  {
   "cell_type": "code",
   "execution_count": 1,
   "metadata": {
    "inputHidden": false,
    "outputHidden": false
   },
   "outputs": [],
   "source": [
    "import pandas as pd\n",
    "import json"
   ]
  }
 ],
 "metadata": {
  "kernel_info": {
   "name": "clerk.ai"
  },
  "kernelspec": {
   "display_name": "budget-analysis",
   "language": "python",
   "name": "budget-analysis"
  },
  "language_info": {
   "codemirror_mode": {
    "name": "ipython",
    "version": 3
   },
   "file_extension": ".py",
   "mimetype": "text/x-python",
   "name": "python",
   "nbconvert_exporter": "python",
   "pygments_lexer": "ipython3",
   "version": "3.7.0"
  },
  "nteract": {
   "version": "0.1.0"
  }
 },
 "nbformat": 4,
 "nbformat_minor": 1
}
